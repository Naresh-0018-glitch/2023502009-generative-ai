{
  "nbformat": 4,
  "nbformat_minor": 0,
  "metadata": {
    "colab": {
      "provenance": [],
      "authorship_tag": "ABX9TyNcdg3mdupb7iWsFXFUrAYk",
      "include_colab_link": true
    },
    "kernelspec": {
      "name": "python3",
      "display_name": "Python 3"
    },
    "language_info": {
      "name": "python"
    }
  },
  "cells": [
    {
      "cell_type": "markdown",
      "metadata": {
        "id": "view-in-github",
        "colab_type": "text"
      },
      "source": [
        "<a href=\"https://colab.research.google.com/github/Naresh-0018-glitch/2023502009-generative-ai/blob/main/Chatbot.ipynb\" target=\"_parent\"><img src=\"https://colab.research.google.com/assets/colab-badge.svg\" alt=\"Open In Colab\"/></a>"
      ]
    },
    {
      "cell_type": "code",
      "execution_count": 2,
      "metadata": {
        "colab": {
          "base_uri": "https://localhost:8080/",
          "height": 611
        },
        "id": "fVCR-yRy8wbQ",
        "outputId": "3edd6a17-8a05-463e-a3dd-5c3983072d02"
      },
      "outputs": [
        {
          "output_type": "stream",
          "name": "stdout",
          "text": [
            "Colab notebook detected. To show errors in colab notebook, set debug=True in launch()\n",
            "* Running on public URL: https://6319110bc7af2417e3.gradio.live\n",
            "\n",
            "This share link expires in 1 week. For free permanent hosting and GPU upgrades, run `gradio deploy` from the terminal in the working directory to deploy to Hugging Face Spaces (https://huggingface.co/spaces)\n"
          ]
        },
        {
          "output_type": "display_data",
          "data": {
            "text/plain": [
              "<IPython.core.display.HTML object>"
            ],
            "text/html": [
              "<div><iframe src=\"https://6319110bc7af2417e3.gradio.live\" width=\"100%\" height=\"500\" allow=\"autoplay; camera; microphone; clipboard-read; clipboard-write;\" frameborder=\"0\" allowfullscreen></iframe></div>"
            ]
          },
          "metadata": {}
        },
        {
          "output_type": "execute_result",
          "data": {
            "text/plain": []
          },
          "metadata": {},
          "execution_count": 2
        }
      ],
      "source": [
        "# Install required packages if not already installed\n",
        "!pip install -q transformers gradio\n",
        "\n",
        "from transformers import AutoModelForCausalLM, AutoTokenizer\n",
        "import torch\n",
        "import gradio as gr\n",
        "\n",
        "# Load the DialoGPT-small model and tokenizer\n",
        "model_name = \"microsoft/DialoGPT-small\"\n",
        "tokenizer = AutoTokenizer.from_pretrained(model_name)\n",
        "model = AutoModelForCausalLM.from_pretrained(model_name)\n",
        "\n",
        "# Chat history will persist across user inputs\n",
        "chat_history = []\n",
        "\n",
        "# Define the chatbot function\n",
        "def chat(user_input):\n",
        "    global chat_history\n",
        "\n",
        "    # Encode user input and append the end-of-sequence token\n",
        "    new_input_ids = tokenizer.encode(user_input + tokenizer.eos_token, return_tensors='pt')\n",
        "\n",
        "    # Concatenate chat history with the new input\n",
        "    bot_input_ids = torch.cat(chat_history + [new_input_ids], dim=-1) if chat_history else new_input_ids\n",
        "\n",
        "    # Generate a response\n",
        "    output_ids = model.generate(\n",
        "        bot_input_ids,\n",
        "        max_length=1000,\n",
        "        pad_token_id=tokenizer.eos_token_id\n",
        "    )\n",
        "\n",
        "    # Update chat history\n",
        "    chat_history.append(new_input_ids)\n",
        "    chat_history.append(output_ids[:, bot_input_ids.shape[-1]:])\n",
        "\n",
        "    # Decode and return the response\n",
        "    response = tokenizer.decode(output_ids[:, bot_input_ids.shape[-1]:][0], skip_special_tokens=True)\n",
        "    return response\n",
        "\n",
        "# Create and launch the Gradio interface\n",
        "gr.Interface(\n",
        "    fn=chat,\n",
        "    inputs=gr.Textbox(lines=2, placeholder=\"Say something...\"),\n",
        "    outputs=\"text\",\n",
        "    title=\"DialoGPT Chatbot\",\n",
        "    description=\"A simple chatbot using Microsoft's DialoGPT-small model.\"\n",
        ").launch(share=True)\n"
      ]
    }
  ]
}