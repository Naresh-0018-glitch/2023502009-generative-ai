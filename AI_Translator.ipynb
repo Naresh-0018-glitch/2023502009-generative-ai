{
  "nbformat": 4,
  "nbformat_minor": 0,
  "metadata": {
    "colab": {
      "provenance": [],
      "authorship_tag": "ABX9TyO1qF2tWdOr7ODkdrozmyR8",
      "include_colab_link": true
    },
    "kernelspec": {
      "name": "python3",
      "display_name": "Python 3"
    },
    "language_info": {
      "name": "python"
    }
  },
  "cells": [
    {
      "cell_type": "markdown",
      "metadata": {
        "id": "view-in-github",
        "colab_type": "text"
      },
      "source": [
        "<a href=\"https://colab.research.google.com/github/Naresh-0018-glitch/2023502009-generative-ai/blob/main/AI_Translator.ipynb\" target=\"_parent\"><img src=\"https://colab.research.google.com/assets/colab-badge.svg\" alt=\"Open In Colab\"/></a>"
      ]
    },
    {
      "cell_type": "code",
      "execution_count": 2,
      "metadata": {
        "colab": {
          "base_uri": "https://localhost:8080/",
          "height": 646
        },
        "id": "euoyT4Ec4lKO",
        "outputId": "886dd13d-5a3b-4a92-8156-71ddc1a957fb"
      },
      "outputs": [
        {
          "output_type": "stream",
          "name": "stdout",
          "text": [
            "It looks like you are running Gradio on a hosted a Jupyter notebook. For the Gradio app to work, sharing must be enabled. Automatically setting `share=True` (you can turn this off by setting `share=False` in `launch()` explicitly).\n",
            "\n",
            "Colab notebook detected. To show errors in colab notebook, set debug=True in launch()\n",
            "* Running on public URL: https://cebe258bc292c3313e.gradio.live\n",
            "\n",
            "This share link expires in 1 week. For free permanent hosting and GPU upgrades, run `gradio deploy` from the terminal in the working directory to deploy to Hugging Face Spaces (https://huggingface.co/spaces)\n"
          ]
        },
        {
          "output_type": "display_data",
          "data": {
            "text/plain": [
              "<IPython.core.display.HTML object>"
            ],
            "text/html": [
              "<div><iframe src=\"https://cebe258bc292c3313e.gradio.live\" width=\"100%\" height=\"500\" allow=\"autoplay; camera; microphone; clipboard-read; clipboard-write;\" frameborder=\"0\" allowfullscreen></iframe></div>"
            ]
          },
          "metadata": {}
        },
        {
          "output_type": "execute_result",
          "data": {
            "text/plain": []
          },
          "metadata": {},
          "execution_count": 2
        }
      ],
      "source": [
        "# Install required libraries (run once)\n",
        "import sys\n",
        "!{sys.executable} -m pip install sacremoses gradio transformers sentencepiece --quiet\n",
        "\n",
        "# Import necessary libraries\n",
        "import gradio as gr\n",
        "from transformers import MarianMTModel, MarianTokenizer\n",
        "\n",
        "# Load MarianMT English → French model & tokenizer\n",
        "model_name = 'Helsinki-NLP/opus-mt-en-fr'\n",
        "tokenizer = MarianTokenizer.from_pretrained(model_name)\n",
        "model = MarianMTModel.from_pretrained(model_name)\n",
        "\n",
        "# Translation function\n",
        "def genai_translate_to_french(text):\n",
        "    if not text.strip():\n",
        "        return \"Please enter some English text to translate.\"\n",
        "    tokens = tokenizer(text, return_tensors=\"pt\", padding=True, truncation=True)\n",
        "    translated = model.generate(**tokens)\n",
        "    return tokenizer.decode(translated[0], skip_special_tokens=True)\n",
        "\n",
        "# Create Gradio interface\n",
        "iface = gr.Interface(\n",
        "    fn=genai_translate_to_french,\n",
        "    inputs=gr.Textbox(lines=5, placeholder=\"Enter English text here...\"),\n",
        "    outputs=gr.Textbox(label=\"French Translation\"),\n",
        "    title=\"GenAI Language Translator\",\n",
        "    description=\"English → French translation using MarianMT (Helsinki-NLP). Powered by Hugging Face Transformers.\"\n",
        ")\n",
        "\n",
        "# Launch the app\n",
        "iface.launch()\n"
      ]
    }
  ]
}