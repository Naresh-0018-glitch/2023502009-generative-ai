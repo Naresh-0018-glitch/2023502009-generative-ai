{
  "nbformat": 4,
  "nbformat_minor": 0,
  "metadata": {
    "colab": {
      "provenance": [],
      "authorship_tag": "ABX9TyNBPoE95zeRegCbRIL4Lz5J",
      "include_colab_link": true
    },
    "kernelspec": {
      "name": "python3",
      "display_name": "Python 3"
    },
    "language_info": {
      "name": "python"
    }
  },
  "cells": [
    {
      "cell_type": "markdown",
      "metadata": {
        "id": "view-in-github",
        "colab_type": "text"
      },
      "source": [
        "<a href=\"https://colab.research.google.com/github/Naresh-0018-glitch/2023502009-generative-ai/blob/main/unsupervised_learning.ipynb\" target=\"_parent\"><img src=\"https://colab.research.google.com/assets/colab-badge.svg\" alt=\"Open In Colab\"/></a>"
      ]
    },
    {
      "cell_type": "code",
      "execution_count": null,
      "metadata": {
        "colab": {
          "base_uri": "https://localhost:8080/",
          "height": 715
        },
        "id": "rgMO8CIz1qYc",
        "outputId": "5e328218-1013-4cc4-953c-7996f93223d5"
      },
      "outputs": [
        {
          "output_type": "stream",
          "name": "stdout",
          "text": [
            "\u001b[2K   \u001b[90m━━━━━━━━━━━━━━━━━━━━━━━━━━━━━━━━━━━━━━━━\u001b[0m \u001b[32m54.2/54.2 MB\u001b[0m \u001b[31m6.7 MB/s\u001b[0m eta \u001b[36m0:00:00\u001b[0m\n",
            "\u001b[2K   \u001b[90m━━━━━━━━━━━━━━━━━━━━━━━━━━━━━━━━━━━━━━━━\u001b[0m \u001b[32m323.1/323.1 kB\u001b[0m \u001b[31m8.4 MB/s\u001b[0m eta \u001b[36m0:00:00\u001b[0m\n",
            "\u001b[2K   \u001b[90m━━━━━━━━━━━━━━━━━━━━━━━━━━━━━━━━━━━━━━━━\u001b[0m \u001b[32m95.2/95.2 kB\u001b[0m \u001b[31m3.6 MB/s\u001b[0m eta \u001b[36m0:00:00\u001b[0m\n",
            "\u001b[2K   \u001b[90m━━━━━━━━━━━━━━━━━━━━━━━━━━━━━━━━━━━━━━━━\u001b[0m \u001b[32m11.5/11.5 MB\u001b[0m \u001b[31m33.5 MB/s\u001b[0m eta \u001b[36m0:00:00\u001b[0m\n",
            "\u001b[2K   \u001b[90m━━━━━━━━━━━━━━━━━━━━━━━━━━━━━━━━━━━━━━━━\u001b[0m \u001b[32m72.0/72.0 kB\u001b[0m \u001b[31m3.4 MB/s\u001b[0m eta \u001b[36m0:00:00\u001b[0m\n",
            "\u001b[2K   \u001b[90m━━━━━━━━━━━━━━━━━━━━━━━━━━━━━━━━━━━━━━━━\u001b[0m \u001b[32m62.5/62.5 kB\u001b[0m \u001b[31m4.5 MB/s\u001b[0m eta \u001b[36m0:00:00\u001b[0m\n",
            "\u001b[?25hColab notebook detected. This cell will run indefinitely so that you can see errors and logs. To turn off, set debug=False in launch().\n",
            "* Running on public URL: https://c54035da4f5f7f5ab0.gradio.live\n",
            "\n",
            "This share link expires in 1 week. For free permanent hosting and GPU upgrades, run `gradio deploy` from the terminal in the working directory to deploy to Hugging Face Spaces (https://huggingface.co/spaces)\n"
          ]
        },
        {
          "output_type": "display_data",
          "data": {
            "text/plain": [
              "<IPython.core.display.HTML object>"
            ],
            "text/html": [
              "<div><iframe src=\"https://c54035da4f5f7f5ab0.gradio.live\" width=\"100%\" height=\"500\" allow=\"autoplay; camera; microphone; clipboard-read; clipboard-write;\" frameborder=\"0\" allowfullscreen></iframe></div>"
            ]
          },
          "metadata": {}
        }
      ],
      "source": [
        "# Install required packages\n",
        "!pip install -q gradio scikit-learn matplotlib pandas\n",
        "\n",
        "import gradio as gr\n",
        "import pandas as pd\n",
        "import matplotlib.pyplot as plt\n",
        "from sklearn.cluster import KMeans\n",
        "from sklearn.preprocessing import StandardScaler\n",
        "from sklearn.decomposition import PCA\n",
        "import numpy as np\n",
        "\n",
        "# Load synthetic Mall Customers dataset\n",
        "def load_data():\n",
        "    data = {\n",
        "        'CustomerID': range(1, 201),\n",
        "        'Gender': ['Male', 'Female']*100,\n",
        "        'Age': np.random.randint(18, 70, size=200),\n",
        "        'Annual Income (k$)': np.random.randint(15, 137, size=200),\n",
        "        'Spending Score (1-100)': np.random.randint(1, 101, size=200)\n",
        "    }\n",
        "    df = pd.DataFrame(data)\n",
        "    df['Gender'] = df['Gender'].map({'Male':0, 'Female':1})  # encode gender\n",
        "    return df\n",
        "\n",
        "df = load_data()\n",
        "\n",
        "def kmeans_cluster(n_clusters):\n",
        "    X = df[['Gender', 'Age', 'Annual Income (k$)', 'Spending Score (1-100)']]\n",
        "\n",
        "    scaler = StandardScaler()\n",
        "    X_scaled = scaler.fit_transform(X)\n",
        "\n",
        "    kmeans = KMeans(n_clusters=n_clusters, random_state=42)\n",
        "    clusters = kmeans.fit_predict(X_scaled)\n",
        "\n",
        "    df_result = df.copy()\n",
        "    df_result['Cluster'] = clusters\n",
        "\n",
        "    # PCA for visualization\n",
        "    pca = PCA(n_components=2)\n",
        "    components = pca.fit_transform(X_scaled)\n",
        "\n",
        "    fig, ax = plt.subplots(figsize=(7,5))\n",
        "    scatter = ax.scatter(components[:,0], components[:,1], c=clusters, cmap='tab10')\n",
        "    legend1 = ax.legend(*scatter.legend_elements(), title=\"Clusters\")\n",
        "    ax.add_artist(legend1)\n",
        "    ax.set_xlabel(\"PCA Component 1\")\n",
        "    ax.set_ylabel(\"PCA Component 2\")\n",
        "    ax.set_title(f\"K-Means Clustering with {n_clusters} Clusters\")\n",
        "    plt.tight_layout()\n",
        "\n",
        "    cluster_summary = df_result.groupby('Cluster').agg({\n",
        "        'Age': ['mean', 'count'],\n",
        "        'Annual Income (k$)': 'mean',\n",
        "        'Spending Score (1-100)': 'mean'\n",
        "    }).round(1)\n",
        "    cluster_summary.columns = ['Age Mean', 'Count', 'Income Mean', 'Spending Score Mean']\n",
        "    cluster_summary = cluster_summary.reset_index()\n",
        "\n",
        "    return cluster_summary, fig\n",
        "\n",
        "iface = gr.Interface(\n",
        "    fn=kmeans_cluster,\n",
        "    inputs=gr.Slider(2, 10, step=1, label=\"Number of Clusters\"),\n",
        "    outputs=[gr.Dataframe(label=\"Cluster Summary\"), gr.Plot(label=\"Cluster Visualization\")],\n",
        "    title=\"Customer Segmentation with K-Means Clustering\",\n",
        "    description=\"Choose the number of clusters to segment customers based on demographics and spending.\"\n",
        ")\n",
        "\n",
        "iface.launch(share=True, debug=True)"
      ]
    }
  ]
}